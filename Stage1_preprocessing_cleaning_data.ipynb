{
 "cells": [
  {
   "cell_type": "code",
   "execution_count": 1,
   "metadata": {},
   "outputs": [],
   "source": [
    "import pandas as pd\n",
    "import numpy as np\n",
    "import matplotlib.pyplot as plt\n",
    "pd.set_option('display.max_columns', None)\n",
    "import seaborn as sb"
   ]
  },
  {
   "cell_type": "code",
   "execution_count": 2,
   "metadata": {},
   "outputs": [
    {
     "name": "stderr",
     "output_type": "stream",
     "text": [
      "/homes/nv304/virtpy3/lib/python3.6/site-packages/IPython/core/interactiveshell.py:3063: DtypeWarning: Columns (7) have mixed types.Specify dtype option on import or set low_memory=False.\n",
      "  interactivity=interactivity, compiler=compiler, result=result)\n"
     ]
    }
   ],
   "source": [
    "df = pd.read_csv('data/loans.csv')"
   ]
  },
  {
   "cell_type": "code",
   "execution_count": 3,
   "metadata": {},
   "outputs": [],
   "source": [
    "# df.dtypes"
   ]
  },
  {
   "cell_type": "markdown",
   "metadata": {},
   "source": [
    "## Preprocessing and Data cleaning.\n",
    "- Remove NANs, if required categorise or bin.\n",
    "- Find outliers and remove them\n",
    "- dropping account_id, description, job_title and other str columns"
   ]
  },
  {
   "cell_type": "markdown",
   "metadata": {},
   "source": [
    "### annual_income\n",
    "annual_income column consist of values such as '10000.0' and 'GBP 10000.0' converting each of these values into integer."
   ]
  },
  {
   "cell_type": "code",
   "execution_count": 4,
   "metadata": {},
   "outputs": [
    {
     "name": "stdout",
     "output_type": "stream",
     "text": [
      "annual_income\n",
      "10000.0           57\n",
      "100000.0        4328\n",
      "1000000.0          5\n",
      "100002.0           1\n",
      "100005.0           1\n",
      "                ... \n",
      "GBP 98000.0        9\n",
      "GBP 98200.0        1\n",
      "GBP 98539.65       1\n",
      "GBP 99000.0        5\n",
      "GBP 99167.0        1\n",
      "Name: account_id, Length: 18837, dtype: int64\n"
     ]
    },
    {
     "data": {
      "text/plain": [
       "<matplotlib.axes._subplots.AxesSubplot at 0x7f93010910b8>"
      ]
     },
     "execution_count": 4,
     "metadata": {},
     "output_type": "execute_result"
    },
    {
     "data": {
      "image/png": "[encoded data removed]",
      "text/plain": [
       "<Figure size 432x288 with 1 Axes>"
      ]
     },
     "metadata": {
      "needs_background": "light"
     },
     "output_type": "display_data"
    }
   ],
   "source": [
    "# df['annual_income'] = df[\"annual_income\"].astype('float')\n",
    "print(df.groupby(['annual_income'])['account_id'].count())\n",
    "\n",
    "def parse_int(s,sep=' '):\n",
    "    res = 0\n",
    "    for i in s.split(str(sep)):\n",
    "        try:\n",
    "            result = int(eval(str(i)))\n",
    "            if type(res) == int:\n",
    "                res = result\n",
    "        except:\n",
    "            pass\n",
    "    return res\n",
    "df['annual_income'] = df['annual_income'].apply(lambda x: parse_int(x))\n",
    "df['annual_income'].plot()"
   ]
  },
  {
   "cell_type": "markdown",
   "metadata": {},
   "source": [
    "### earliest_credit_line\n",
    "earliest_credit_line column consists of values such as 'Apr-1980'. These have been first processed as \n",
    "\n",
    "- Apr-1980 -> 1980 then\n",
    "\n",
    "these values ae binned as\n",
    "- 2010 > as 0\n",
    "- 2000 > and < 2010 as 1\n",
    "- 1990 > and < 2000 as 2\n",
    "- 1980 > and < 1990 as 3\n",
    "- and others or < 1980 as 4"
   ]
  },
  {
   "cell_type": "code",
   "execution_count": 5,
   "metadata": {},
   "outputs": [
    {
     "data": {
      "text/plain": [
       "<matplotlib.axes._subplots.AxesSubplot at 0x7f9301bcbeb8>"
      ]
     },
     "execution_count": 5,
     "metadata": {},
     "output_type": "execute_result"
    },
    {
     "data": {
      "image/png": "[encoded data removed]",
      "text/plain": [
       "<Figure size 432x288 with 1 Axes>"
      ]
     },
     "metadata": {
      "needs_background": "light"
     },
     "output_type": "display_data"
    }
   ],
   "source": [
    "# earliest_credit_line\n",
    "df.groupby(['earliest_credit_line'])['account_id'].count()\n",
    "df[df['earliest_credit_line'].isnull()]['account_id'].count()\n",
    "\n",
    "df['earliest_credit_line'] = df['earliest_credit_line'].apply(lambda x: parse_int(x,'-'))\n",
    "df.groupby(['earliest_credit_line'])['account_id'].count().plot()"
   ]
  },
  {
   "cell_type": "code",
   "execution_count": 6,
   "metadata": {},
   "outputs": [
    {
     "data": {
      "text/plain": [
       "earliest_credit_line\n",
       "0      749\n",
       "1    88217\n",
       "2    93735\n",
       "3    23407\n",
       "4    31328\n",
       "Name: account_id, dtype: int64"
      ]
     },
     "execution_count": 6,
     "metadata": {},
     "output_type": "execute_result"
    }
   ],
   "source": [
    "def cat_years(x):\n",
    "    if x>2010:\n",
    "        return 0\n",
    "    elif x > 2000 and x < 2010:\n",
    "        return 1\n",
    "    elif x > 1990 and x < 2000:\n",
    "        return 2\n",
    "    elif x > 1980 and x < 1990:\n",
    "        return 3\n",
    "    else:\n",
    "        return 4\n",
    "\n",
    "df['earliest_credit_line'] = df['earliest_credit_line'].apply(lambda x: cat_years(x))\n",
    "df.groupby(['earliest_credit_line'])['account_id'].count()"
   ]
  },
  {
   "cell_type": "markdown",
   "metadata": {},
   "source": [
    "### year\n",
    "The year column has values between 2009 and 2015 these have been now been label encoded as 0-6"
   ]
  },
  {
   "cell_type": "code",
   "execution_count": 7,
   "metadata": {},
   "outputs": [
    {
     "data": {
      "text/plain": [
       "year\n",
       "0     4332\n",
       "1    10536\n",
       "2    17629\n",
       "3    44401\n",
       "4    63486\n",
       "5    65212\n",
       "6    31840\n",
       "Name: account_id, dtype: int64"
      ]
     },
     "execution_count": 7,
     "metadata": {},
     "output_type": "execute_result"
    }
   ],
   "source": [
    "df.groupby(['year'])['account_id'].count()\n",
    "df[\"year\"] = df[\"year\"].astype('category')\n",
    "df[\"year\"] = df[\"year\"].cat.codes\n",
    "df.groupby(['year'])['account_id'].count()"
   ]
  },
  {
   "cell_type": "markdown",
   "metadata": {},
   "source": [
    "### employment length\n",
    "The employment length values start have lables '0 years' to '9 years' and more than or equal 10, ad there are large amount of NANs around 9k. The NANs have been ecategorised into another category as 'unknown' and this category have been label encoded from 0-11."
   ]
  },
  {
   "cell_type": "code",
   "execution_count": 8,
   "metadata": {},
   "outputs": [
    {
     "data": {
      "text/plain": [
       "employment_length\n",
       "0     15633\n",
       "1     72996\n",
       "2     22127\n",
       "3     19139\n",
       "4     15193\n",
       "5     16851\n",
       "6     13634\n",
       "7     13178\n",
       "8     11138\n",
       "9      9034\n",
       "10    19336\n",
       "11     9177\n",
       "Name: account_id, dtype: int64"
      ]
     },
     "execution_count": 8,
     "metadata": {},
     "output_type": "execute_result"
    }
   ],
   "source": [
    "# employment_length \n",
    "df.groupby(['employment_length'])['account_id'].count()\n",
    "df[df['employment_length'].isnull()]['account_id'].count()\n",
    "# replace nan values with unknown category as size > 9k\n",
    "df = df.fillna({\"employment_length\": \"unknown\"})\n",
    "df[\"employment_length\"] = df[\"employment_length\"].astype('category')\n",
    "df[\"employment_length\"] = df[\"employment_length\"].cat.codes\n",
    "df.groupby(['employment_length'])['account_id'].count()"
   ]
  },
  {
   "cell_type": "markdown",
   "metadata": {},
   "source": [
    "### home_ownership\n",
    "removed NONE and ANY as their instances are very less and label encoded this column "
   ]
  },
  {
   "cell_type": "code",
   "execution_count": 9,
   "metadata": {},
   "outputs": [
    {
     "data": {
      "text/plain": [
       "home_ownership\n",
       "0    118540\n",
       "1       101\n",
       "2     20843\n",
       "3     97916\n",
       "Name: account_id, dtype: int64"
      ]
     },
     "execution_count": 9,
     "metadata": {},
     "output_type": "execute_result"
    }
   ],
   "source": [
    "# home_ownership\n",
    "df.groupby(['home_ownership'])['account_id'].count()\n",
    "df[df['home_ownership'].isnull()]['account_id'].count()\n",
    "# drop home_ownership = ANY and NONE\n",
    "df = df[df.home_ownership != 'ANY']\n",
    "df = df[df.home_ownership != 'NONE']\n",
    "df[\"home_ownership\"] = df[\"home_ownership\"].astype('category')\n",
    "df[\"home_ownership\"] = df[\"home_ownership\"].cat.codes\n",
    "df.groupby(['home_ownership'])['account_id'].count()"
   ]
  },
  {
   "cell_type": "markdown",
   "metadata": {},
   "source": [
    "### inquiries_6m\n",
    "combined all the values above 3 into one, as there is a decrease trend with long tail."
   ]
  },
  {
   "cell_type": "code",
   "execution_count": 5,
   "metadata": {},
   "outputs": [
    {
     "data": {
      "text/plain": [
       "inquiries_6m\n",
       "0.0    118595\n",
       "1.0     67906\n",
       "2.0     31615\n",
       "3.0     19320\n",
       "Name: account_id, dtype: int64"
      ]
     },
     "execution_count": 5,
     "metadata": {},
     "output_type": "execute_result"
    },
    {
     "data": {
      "image/png": "[encoded data removed]",
      "text/plain": [
       "<Figure size 432x288 with 1 Axes>"
      ]
     },
     "metadata": {
      "needs_background": "light"
     },
     "output_type": "display_data"
    }
   ],
   "source": [
    "# inquiries_6m\n",
    "df.groupby(['inquiries_6m'])['account_id'].count().plot()\n",
    "# df[df['inquiries_6m'].isnull()]['account_id'].count()\n",
    "# Combining > 3 inquries into 1 category \n",
    "df['inquiries_6m'] = df['inquiries_6m'].apply(lambda x: 3.0 if x >= 3.0 else x)\n",
    "df.groupby(['inquiries_6m'])['account_id'].count()"
   ]
  },
  {
   "cell_type": "markdown",
   "metadata": {},
   "source": [
    "### last_delinquency_months\n",
    "This column had 131314 NANs, which cannot be dropped neither we can take mean or median of values, thus all the NANs were given value 0 and all the previous values were shifted by 1 place."
   ]
  },
  {
   "cell_type": "code",
   "execution_count": 11,
   "metadata": {},
   "outputs": [
    {
     "data": {
      "text/plain": [
       "last_delinquency_months\n",
       "0.0     131314\n",
       "1.0        156\n",
       "2.0        660\n",
       "3.0        845\n",
       "4.0        977\n",
       "         ...  \n",
       "77.0       761\n",
       "78.0       748\n",
       "79.0       702\n",
       "80.0       684\n",
       "81.0      1762\n",
       "Name: account_id, Length: 82, dtype: int64"
      ]
     },
     "execution_count": 11,
     "metadata": {},
     "output_type": "execute_result"
    },
    {
     "data": {
      "image/png": "[encoded data removed]",
      "text/plain": [
       "<Figure size 432x288 with 1 Axes>"
      ]
     },
     "metadata": {
      "needs_background": "light"
     },
     "output_type": "display_data"
    }
   ],
   "source": [
    "df.groupby(['last_delinquency_months'])['account_id'].count().plot()\n",
    "df[df['last_delinquency_months'].isnull()]['account_id'].count()\n",
    "# Combining > 80 last_delinquency_months into 1 category as 81\n",
    "df['last_delinquency_months'] = df['last_delinquency_months'].apply(lambda x: x+1)\n",
    "df['last_delinquency_months'] = df['last_delinquency_months'].apply(lambda x: 81.0 if x >= 81.0 else x)\n",
    "# as nan count > 130k maeking those into anoth category as 82\n",
    "df = df.fillna({\"last_delinquency_months\": 0.0})\n",
    "df.groupby(['last_delinquency_months'])['account_id'].count()"
   ]
  },
  {
   "cell_type": "markdown",
   "metadata": {},
   "source": [
    "### last_derog_months\n",
    "This column had 191030 NANs, again these instances cannot be dropped as this is an inportant feature. And as seen from the graph below it has a long tail after value 80, thus I have combined those value into one (81) and for NANs I have set the value to 0 and shifted all the other values by 1."
   ]
  },
  {
   "cell_type": "code",
   "execution_count": 12,
   "metadata": {},
   "outputs": [
    {
     "data": {
      "text/plain": [
       "last_derog_months\n",
       "0.0     191030\n",
       "1.0         33\n",
       "2.0        119\n",
       "3.0        110\n",
       "4.0        109\n",
       "         ...  \n",
       "77.0       480\n",
       "78.0       408\n",
       "79.0       388\n",
       "80.0       302\n",
       "81.0      1386\n",
       "Name: account_id, Length: 82, dtype: int64"
      ]
     },
     "execution_count": 12,
     "metadata": {},
     "output_type": "execute_result"
    },
    {
     "data": {
      "image/png": "[encoded data removed]",
      "text/plain": [
       "<Figure size 432x288 with 1 Axes>"
      ]
     },
     "metadata": {
      "needs_background": "light"
     },
     "output_type": "display_data"
    }
   ],
   "source": [
    "# last_derog_months\n",
    "df.groupby(['last_derog_months'])['account_id'].count().plot()\n",
    "df[df['last_derog_months'].isnull()]['account_id'].count()\n",
    "# Combining > 80 last_delinquency_months into 1 category as 81\n",
    "df['last_derog_months'] = df['last_derog_months'].apply(lambda x: x+1)\n",
    "df['last_derog_months'] = df['last_derog_months'].apply(lambda x: 81.0 if x >= 81.0 else x)\n",
    "# as nan count > 190k making those into anoth category as 82\n",
    "df = df.fillna({\"last_derog_months\": 0.0})\n",
    "df.groupby(['last_derog_months'])['account_id'].count()"
   ]
  },
  {
   "cell_type": "markdown",
   "metadata": {},
   "source": [
    "### last_record_months\n",
    "Here we see an outlier, as there is only one record with last_record_month == 120, this record has been set to 119 now and around 207k+ NANs have been given a default value of 120. Other Impuatations techniques are not efficient, and subtituting with mean or median will loose the meaning as there are 207k NANs."
   ]
  },
  {
   "cell_type": "code",
   "execution_count": 13,
   "metadata": {},
   "outputs": [
    {
     "data": {
      "text/plain": [
       "last_record_months\n",
       "0.0           6\n",
       "1.0           9\n",
       "2.0          11\n",
       "3.0          10\n",
       "4.0          15\n",
       "          ...  \n",
       "116.0       425\n",
       "117.0       411\n",
       "118.0       422\n",
       "119.0       247\n",
       "120.0    207544\n",
       "Name: account_id, Length: 121, dtype: int64"
      ]
     },
     "execution_count": 13,
     "metadata": {},
     "output_type": "execute_result"
    },
    {
     "data": {
      "image/png": "[encoded data removed]",
      "text/plain": [
       "<Figure size 432x288 with 1 Axes>"
      ]
     },
     "metadata": {
      "needs_background": "light"
     },
     "output_type": "display_data"
    }
   ],
   "source": [
    "# last_record_months\n",
    "df.groupby(['last_record_months'])['account_id'].count().plot()\n",
    "df[df['last_record_months'].isnull()]['account_id'].count()\n",
    "# Combining > 119 last_delinquency_months into 1 category as 119\n",
    "df['last_record_months'] = df['last_record_months'].apply(lambda x: 119.0 if x >= 119.0 else x)\n",
    "# as nan count > 200k making those into anoth category as 120\n",
    "df = df.fillna({\"last_record_months\": 120.0})\n",
    "df.groupby(['last_record_months'])['account_id'].count()"
   ]
  },
  {
   "cell_type": "markdown",
   "metadata": {},
   "source": [
    "### open_accounts\n",
    "As we see below, there are jsut 45 accounts with 1 open accounts, I have combined these values to 2.0 Removed the accounts with 0 accounts and there is a long tail, thus I have combined values which are above 19 into another category 20."
   ]
  },
  {
   "cell_type": "code",
   "execution_count": 6,
   "metadata": {},
   "outputs": [
    {
     "data": {
      "text/plain": [
       "open_accounts\n",
       "2.0      1124\n",
       "3.0      3209\n",
       "4.0      6936\n",
       "5.0     11723\n",
       "6.0     16586\n",
       "7.0     19695\n",
       "8.0     21697\n",
       "9.0     22697\n",
       "10.0    21520\n",
       "11.0    19737\n",
       "12.0    17371\n",
       "13.0    14625\n",
       "14.0    12287\n",
       "15.0     9942\n",
       "16.0     8257\n",
       "17.0     6454\n",
       "18.0     5297\n",
       "19.0     4231\n",
       "20.0    14044\n",
       "Name: account_id, dtype: int64"
      ]
     },
     "execution_count": 6,
     "metadata": {},
     "output_type": "execute_result"
    },
    {
     "data": {
      "image/png": "[encoded data removed]",
      "text/plain": [
       "<Figure size 432x288 with 1 Axes>"
      ]
     },
     "metadata": {
      "needs_background": "light"
     },
     "output_type": "display_data"
    }
   ],
   "source": [
    "# open_accounts\n",
    "df.groupby(['open_accounts'])['account_id'].count().plot()\n",
    "df.groupby(['open_accounts'])['account_id'].count()\n",
    "# df[df['open_accounts'].isnull()]['account_id'].count()\n",
    "# remove 0 open_account rows\n",
    "df = df[df.open_accounts != 0.0]\n",
    "\n",
    "df['open_accounts'] = df['open_accounts'].apply(lambda x: 2.0 if x <= 1.0 else x)\n",
    "# combine the accounts which are above 19 as the count drops drastically\n",
    "df['open_accounts'] = df['open_accounts'].apply(lambda x: 20.0 if x > 19.0 else x)\n",
    "df.groupby(['open_accounts'])['account_id'].count()"
   ]
  },
  {
   "cell_type": "markdown",
   "metadata": {},
   "source": [
    "### public_records\n",
    "Below we see a long tail of values which are geater than 3, thus I ahve combined these values into another category and named it 4. "
   ]
  },
  {
   "cell_type": "code",
   "execution_count": 15,
   "metadata": {},
   "outputs": [
    {
     "data": {
      "text/plain": [
       "public_records\n",
       "0.0    207543\n",
       "1.0     26266\n",
       "2.0      2515\n",
       "3.0       697\n",
       "4.0       375\n",
       "Name: account_id, dtype: int64"
      ]
     },
     "execution_count": 15,
     "metadata": {},
     "output_type": "execute_result"
    },
    {
     "data": {
      "image/png": "[encoded data removed]",
      "text/plain": [
       "<Figure size 432x288 with 1 Axes>"
      ]
     },
     "metadata": {
      "needs_background": "light"
     },
     "output_type": "display_data"
    }
   ],
   "source": [
    "# public_records\n",
    "df.groupby(['public_records'])['account_id'].count().plot()\n",
    "df.groupby(['public_records'])['account_id'].count()\n",
    "# for records greater than 4 combine\n",
    "df['public_records'] = df['public_records'].apply(lambda x: 4.0 if x > 3.0 else x)\n",
    "df.groupby(['public_records'])['account_id'].count()"
   ]
  },
  {
   "cell_type": "markdown",
   "metadata": {},
   "source": [
    "### purpose\n",
    "I have label encoded all the categories into integer values. There are such 13 categories in which people take loan."
   ]
  },
  {
   "cell_type": "code",
   "execution_count": 8,
   "metadata": {},
   "outputs": [
    {
     "data": {
      "text/plain": [
       "purpose\n",
       "0       3415\n",
       "1      47819\n",
       "2     139508\n",
       "3        236\n",
       "4      14260\n",
       "5       1514\n",
       "6       5919\n",
       "7       2601\n",
       "8       1834\n",
       "9      12913\n",
       "10       229\n",
       "11      3957\n",
       "12      1485\n",
       "13      1742\n",
       "Name: account_id, dtype: int64"
      ]
     },
     "execution_count": 8,
     "metadata": {},
     "output_type": "execute_result"
    },
    {
     "data": {
      "image/png": "[encoded data removed]",
      "text/plain": [
       "<Figure size 432x288 with 1 Axes>"
      ]
     },
     "metadata": {
      "needs_background": "light"
     },
     "output_type": "display_data"
    }
   ],
   "source": [
    "# purpose\n",
    "df.groupby(['purpose'])['account_id'].count().plot(kind='bar')\n",
    "df[df['purpose'].isnull()]['account_id'].count()\n",
    "df[\"purpose\"] = df[\"purpose\"].astype('category')\n",
    "df[\"purpose\"] = df[\"purpose\"].cat.codes\n",
    "df.groupby(['purpose'])['account_id'].count()"
   ]
  },
  {
   "cell_type": "markdown",
   "metadata": {},
   "source": [
    "### credit_card_usage\n",
    "Here, we observe some outliers, which I have removed. Since the count of values is so high, that there is little impact of that outlier on the mean, but the mean changes. Also there are some 169 NANs, which I ahve kept marking the values of such records as 0.  "
   ]
  },
  {
   "cell_type": "code",
   "execution_count": 17,
   "metadata": {},
   "outputs": [
    {
     "name": "stdout",
     "output_type": "stream",
     "text": [
      "count    237227.000000\n",
      "mean         53.933289\n",
      "std          24.767086\n",
      "min           0.000000\n",
      "25%          35.800000\n",
      "50%          55.300000\n",
      "75%          73.400000\n",
      "max         892.300000\n",
      "Name: credit_card_usage, dtype: float64\n",
      "count    237226.000000\n",
      "mean         53.929755\n",
      "std          24.707252\n",
      "min           0.000000\n",
      "25%          35.800000\n",
      "50%          55.300000\n",
      "75%          73.400000\n",
      "max         153.000000\n",
      "Name: credit_card_usage, dtype: float64\n"
     ]
    }
   ],
   "source": [
    "# credit_card_usage\n",
    "df.groupby(['credit_card_usage'])['account_id'].count()\n",
    "# df['credit_card_usage'].plot()\n",
    "print(df['credit_card_usage'].describe())\n",
    "df = df.loc[df['credit_card_usage']!=df['credit_card_usage'].max()]\n",
    "print(df['credit_card_usage'].describe())\n",
    "df[df['credit_card_usage'].isnull()]['account_id'].count()\n",
    "# 169 nan values. replacing with 0\n",
    "df = df.fillna({\"credit_card_usage\": 0.0})"
   ]
  },
  {
   "cell_type": "markdown",
   "metadata": {},
   "source": [
    "### term\n",
    "I have label encoded the term values."
   ]
  },
  {
   "cell_type": "code",
   "execution_count": 9,
   "metadata": {},
   "outputs": [
    {
     "data": {
      "text/plain": [
       "term\n",
       "0    185773\n",
       "1     51659\n",
       "Name: account_id, dtype: int64"
      ]
     },
     "execution_count": 9,
     "metadata": {},
     "output_type": "execute_result"
    },
    {
     "data": {
      "image/png": "[encoded data removed]",
      "text/plain": [
       "<Figure size 432x288 with 1 Axes>"
      ]
     },
     "metadata": {
      "needs_background": "light"
     },
     "output_type": "display_data"
    }
   ],
   "source": [
    "# term\n",
    "df.groupby(['term'])['account_id'].count().plot(kind='bar')\n",
    "df[df['term'].isnull()]['account_id'].count()\n",
    "df[\"term\"] = df[\"term\"].astype('category')\n",
    "df[\"term\"] = df[\"term\"].cat.codes\n",
    "df.groupby(['term'])['account_id'].count()"
   ]
  },
  {
   "cell_type": "markdown",
   "metadata": {},
   "source": [
    "### nr_accounts\n",
    "As seen from the graph below, there is a long tail of values after 50, thus I have combined those values. And I have combined the smaller values into one category."
   ]
  },
  {
   "cell_type": "code",
   "execution_count": 10,
   "metadata": {},
   "outputs": [
    {
     "data": {
      "image/png": "[encoded data removed]",
      "text/plain": [
       "<Figure size 432x288 with 1 Axes>"
      ]
     },
     "metadata": {
      "needs_background": "light"
     },
     "output_type": "display_data"
    }
   ],
   "source": [
    "# nr_accounts\n",
    "df.groupby(['nr_accounts'])['account_id'].count().plot()\n",
    "df.groupby(['nr_accounts'])['account_id'].count()\n",
    "# combine nr_record = 2.0 to 3.0 and records greater than 50 to 51\n",
    "df['nr_accounts'] = df['nr_accounts'].apply(lambda x: 3.0 if x <= 2.0 else x)\n",
    "df['nr_accounts'] = df['nr_accounts'].apply(lambda x: 51.0 if x > 50.0 else x)\n",
    "# df.groupby(['nr_accounts'])['account_id'].count()"
   ]
  },
  {
   "cell_type": "markdown",
   "metadata": {},
   "source": [
    "### total_current_balance\n",
    "There are some 55590 NANs, and these values are too large to be dropped off, and we cannot set these values to 0 as it will not make sense, thus I have imputed these values with mean of other values in the column. "
   ]
  },
  {
   "cell_type": "code",
   "execution_count": 20,
   "metadata": {},
   "outputs": [
    {
     "name": "stdout",
     "output_type": "stream",
     "text": [
      "nan counts 55590\n"
     ]
    },
    {
     "data": {
      "image/png": "[encoded data removed]",
      "text/plain": [
       "<Figure size 1080x360 with 2 Axes>"
      ]
     },
     "metadata": {
      "needs_background": "light"
     },
     "output_type": "display_data"
    }
   ],
   "source": [
    "# total_current_balance\n",
    "print(\"nan counts\",df[df['total_current_balance'].isnull()]['account_id'].count())\n",
    "#high nan count, replacing with mean\n",
    "fig, axs = plt.subplots(1,2,figsize=(15,5))\n",
    "df['total_current_balance'].plot(ax=axs[0])\n",
    "df['total_current_balance'].fillna((df['total_current_balance'].mean())).plot(ax=axs[1])\n",
    "df['total_current_balance'] = df['total_current_balance'].fillna((df['total_current_balance'].mean()))"
   ]
  },
  {
   "cell_type": "markdown",
   "metadata": {},
   "source": [
    "### district\n",
    "Geographical could mean something if given to the models, thus I have label encoded these and the nan values."
   ]
  },
  {
   "cell_type": "code",
   "execution_count": 21,
   "metadata": {},
   "outputs": [
    {
     "data": {
      "text/plain": [
       "district\n",
       "0      1279\n",
       "1      1918\n",
       "2       255\n",
       "3       484\n",
       "4       456\n",
       "       ... \n",
       "378     666\n",
       "379     314\n",
       "380     379\n",
       "381    1127\n",
       "382     888\n",
       "Name: account_id, Length: 383, dtype: int64"
      ]
     },
     "execution_count": 21,
     "metadata": {},
     "output_type": "execute_result"
    },
    {
     "data": {
      "image/png": "[encoded data removed]",
      "text/plain": [
       "<Figure size 432x288 with 1 Axes>"
      ]
     },
     "metadata": {
      "needs_background": "light"
     },
     "output_type": "display_data"
    }
   ],
   "source": [
    "# district\n",
    "df.groupby(['district'])['account_id'].count().plot()\n",
    "df[df['district'].isnull()]['account_id'].count()\n",
    "# converting 888 NANs to unknown district\n",
    "df = df.fillna({\"district\": 'unkown'})\n",
    "# converting these into categories.\n",
    "df[\"district\"] = df[\"district\"].astype('category')\n",
    "df[\"district\"] = df[\"district\"].cat.codes\n",
    "df.groupby(['district'])['account_id'].count()"
   ]
  },
  {
   "cell_type": "markdown",
   "metadata": {},
   "source": [
    "### loan_status\n",
    "Combining 'Charged off' and 'Default' as bad_loan (1) and 'Fully Paid' as (0) and keeping 'Late (> 90 days)' and 'Ongoing' as 2 aside for predicting/inference"
   ]
  },
  {
   "cell_type": "code",
   "execution_count": 22,
   "metadata": {},
   "outputs": [
    {
     "name": "stdout",
     "output_type": "stream",
     "text": [
      "loan_status\n",
      "Charged Off          14953\n",
      "Default               1219\n",
      "Fully Paid          206165\n",
      "Late (> 90 days)      9297\n",
      "Ongoing               5761\n",
      "Name: account_id, dtype: int64\n",
      "loan_status\n",
      "0     14953\n",
      "1      1219\n",
      "2    206165\n",
      "3      9297\n",
      "4      5761\n",
      "Name: account_id, dtype: int64\n"
     ]
    },
    {
     "data": {
      "text/plain": [
       "loan_status\n",
       "0    206165\n",
       "1     16172\n",
       "2     15058\n",
       "Name: account_id, dtype: int64"
      ]
     },
     "execution_count": 22,
     "metadata": {},
     "output_type": "execute_result"
    }
   ],
   "source": [
    "print(df.groupby(['loan_status'])['account_id'].count())\n",
    "df[\"loan_status\"] = df[\"loan_status\"].astype('category')\n",
    "df[\"loan_status\"] = df[\"loan_status\"].cat.codes\n",
    "print(df.groupby(['loan_status'])['account_id'].count())\n",
    "\n",
    "def get_ytrue(x):\n",
    "    if x == 0 or x == 1:\n",
    "        return 1\n",
    "    if x == 2:\n",
    "        return 0\n",
    "    if x == 3 or x == 4:\n",
    "        return 2\n",
    "\n",
    "df['loan_status'] = df['loan_status'].apply(lambda x: get_ytrue(x))\n",
    "df.groupby(['loan_status'])['account_id'].count()"
   ]
  },
  {
   "cell_type": "markdown",
   "metadata": {},
   "source": [
    "### Other Columns with dtype string\n",
    "\n",
    "- issue_date is dropped in favor of year\n",
    "- account_id as this information is irrelevant to the model.\n",
    "- postcode_district, dropped in favor of district\n",
    "- job_title, there are lot of NANs, future scope of NER and important phrase extraction can be done\n",
    "- title, there are lot of NANs, future scope of NER and important phrase extraction can be done\n",
    "- description, there are lot of NANs, future scope of NER and important phrase extraction can be done\n",
    "\n",
    "The above str columns, job_title, title, description can be used to find common phrases and for these phrases, word embeddings can be applied which can be used as another feature."
   ]
  },
  {
   "cell_type": "code",
   "execution_count": 23,
   "metadata": {},
   "outputs": [],
   "source": [
    "df = df.drop(['issue_date'], axis=1)\n",
    "df = df.drop(['account_id'],axis=1)\n",
    "df = df.drop(['job_title'],axis=1)\n",
    "df = df.drop(['title'],axis=1)\n",
    "df = df.drop(['postcode_district'],axis=1)\n",
    "df = df.drop(['description'], axis=1)"
   ]
  },
  {
   "cell_type": "code",
   "execution_count": 24,
   "metadata": {},
   "outputs": [
    {
     "data": {
      "text/plain": [
       "(237395, 26)"
      ]
     },
     "execution_count": 24,
     "metadata": {},
     "output_type": "execute_result"
    }
   ],
   "source": [
    "df.shape"
   ]
  },
  {
   "cell_type": "code",
   "execution_count": 25,
   "metadata": {},
   "outputs": [
    {
     "data": {
      "text/html": [
       "<div>\n",
       "<style scoped>\n",
       "    .dataframe tbody tr th:only-of-type {\n",
       "        vertical-align: middle;\n",
       "    }\n",
       "\n",
       "    .dataframe tbody tr th {\n",
       "        vertical-align: top;\n",
       "    }\n",
       "\n",
       "    .dataframe thead th {\n",
       "        text-align: right;\n",
       "    }\n",
       "</style>\n",
       "<table border=\"1\" class=\"dataframe\">\n",
       "  <thead>\n",
       "    <tr style=\"text-align: right;\">\n",
       "      <th></th>\n",
       "      <th>installment</th>\n",
       "      <th>loan_amount</th>\n",
       "      <th>interest_rate</th>\n",
       "      <th>term</th>\n",
       "      <th>purpose</th>\n",
       "      <th>home_ownership</th>\n",
       "      <th>annual_income</th>\n",
       "      <th>employment_length</th>\n",
       "      <th>earliest_credit_line</th>\n",
       "      <th>public_records</th>\n",
       "      <th>last_record_months</th>\n",
       "      <th>last_delinquency_months</th>\n",
       "      <th>last_derog_months</th>\n",
       "      <th>delinquency_2y</th>\n",
       "      <th>inquiries_6m</th>\n",
       "      <th>open_accounts</th>\n",
       "      <th>debt_to_income</th>\n",
       "      <th>credit_card_usage</th>\n",
       "      <th>credit_card_balance</th>\n",
       "      <th>total_current_balance</th>\n",
       "      <th>nr_accounts</th>\n",
       "      <th>loan_status</th>\n",
       "      <th>amount_payed</th>\n",
       "      <th>year</th>\n",
       "      <th>district</th>\n",
       "      <th>credit_score</th>\n",
       "    </tr>\n",
       "  </thead>\n",
       "  <tbody>\n",
       "    <tr>\n",
       "      <th>count</th>\n",
       "      <td>237395.000000</td>\n",
       "      <td>237395.000000</td>\n",
       "      <td>237395.000000</td>\n",
       "      <td>237395.000000</td>\n",
       "      <td>237395.000000</td>\n",
       "      <td>237395.000000</td>\n",
       "      <td>2.373950e+05</td>\n",
       "      <td>237395.000000</td>\n",
       "      <td>237395.000000</td>\n",
       "      <td>237395.000000</td>\n",
       "      <td>237395.000000</td>\n",
       "      <td>237395.000000</td>\n",
       "      <td>237395.000000</td>\n",
       "      <td>237395.000000</td>\n",
       "      <td>237395.000000</td>\n",
       "      <td>237395.000000</td>\n",
       "      <td>237395.000000</td>\n",
       "      <td>237395.000000</td>\n",
       "      <td>2.373950e+05</td>\n",
       "      <td>2.373950e+05</td>\n",
       "      <td>237395.000000</td>\n",
       "      <td>237395.000000</td>\n",
       "      <td>237395.000000</td>\n",
       "      <td>237395.000000</td>\n",
       "      <td>237395.000000</td>\n",
       "      <td>237395.000000</td>\n",
       "    </tr>\n",
       "    <tr>\n",
       "      <th>mean</th>\n",
       "      <td>419.157920</td>\n",
       "      <td>13606.008025</td>\n",
       "      <td>13.573666</td>\n",
       "      <td>0.217591</td>\n",
       "      <td>2.792772</td>\n",
       "      <td>1.413349</td>\n",
       "      <td>7.354933e+04</td>\n",
       "      <td>4.036808</td>\n",
       "      <td>1.984541</td>\n",
       "      <td>0.146958</td>\n",
       "      <td>114.518962</td>\n",
       "      <td>16.166335</td>\n",
       "      <td>8.640439</td>\n",
       "      <td>0.256113</td>\n",
       "      <td>0.796457</td>\n",
       "      <td>10.798425</td>\n",
       "      <td>16.527606</td>\n",
       "      <td>53.891362</td>\n",
       "      <td>1.528588e+04</td>\n",
       "      <td>1.405628e+05</td>\n",
       "      <td>24.976891</td>\n",
       "      <td>0.194983</td>\n",
       "      <td>14038.479086</td>\n",
       "      <td>4.001377</td>\n",
       "      <td>186.814213</td>\n",
       "      <td>550.466943</td>\n",
       "    </tr>\n",
       "    <tr>\n",
       "      <th>std</th>\n",
       "      <td>245.265153</td>\n",
       "      <td>8143.662130</td>\n",
       "      <td>4.367879</td>\n",
       "      <td>0.412609</td>\n",
       "      <td>2.543745</td>\n",
       "      <td>1.437383</td>\n",
       "      <td>5.755961e+04</td>\n",
       "      <td>3.405895</td>\n",
       "      <td>1.005112</td>\n",
       "      <td>0.427928</td>\n",
       "      <td>17.483744</td>\n",
       "      <td>23.087015</td>\n",
       "      <td>19.815510</td>\n",
       "      <td>0.755780</td>\n",
       "      <td>0.957440</td>\n",
       "      <td>4.372366</td>\n",
       "      <td>7.811221</td>\n",
       "      <td>24.740306</td>\n",
       "      <td>1.904590e+04</td>\n",
       "      <td>1.352500e+05</td>\n",
       "      <td>11.160823</td>\n",
       "      <td>0.532753</td>\n",
       "      <td>9547.726621</td>\n",
       "      <td>1.409435</td>\n",
       "      <td>114.099624</td>\n",
       "      <td>200.149081</td>\n",
       "    </tr>\n",
       "    <tr>\n",
       "      <th>min</th>\n",
       "      <td>19.870000</td>\n",
       "      <td>1000.000000</td>\n",
       "      <td>5.320000</td>\n",
       "      <td>0.000000</td>\n",
       "      <td>0.000000</td>\n",
       "      <td>0.000000</td>\n",
       "      <td>3.000000e+03</td>\n",
       "      <td>0.000000</td>\n",
       "      <td>0.000000</td>\n",
       "      <td>0.000000</td>\n",
       "      <td>0.000000</td>\n",
       "      <td>0.000000</td>\n",
       "      <td>0.000000</td>\n",
       "      <td>0.000000</td>\n",
       "      <td>0.000000</td>\n",
       "      <td>1.000000</td>\n",
       "      <td>0.000000</td>\n",
       "      <td>0.000000</td>\n",
       "      <td>0.000000e+00</td>\n",
       "      <td>0.000000e+00</td>\n",
       "      <td>3.000000</td>\n",
       "      <td>0.000000</td>\n",
       "      <td>0.000000</td>\n",
       "      <td>0.000000</td>\n",
       "      <td>0.000000</td>\n",
       "      <td>-345.011615</td>\n",
       "    </tr>\n",
       "    <tr>\n",
       "      <th>25%</th>\n",
       "      <td>240.920000</td>\n",
       "      <td>7375.000000</td>\n",
       "      <td>10.490000</td>\n",
       "      <td>0.000000</td>\n",
       "      <td>2.000000</td>\n",
       "      <td>0.000000</td>\n",
       "      <td>4.500000e+04</td>\n",
       "      <td>1.000000</td>\n",
       "      <td>1.000000</td>\n",
       "      <td>0.000000</td>\n",
       "      <td>120.000000</td>\n",
       "      <td>0.000000</td>\n",
       "      <td>0.000000</td>\n",
       "      <td>0.000000</td>\n",
       "      <td>0.000000</td>\n",
       "      <td>8.000000</td>\n",
       "      <td>10.720000</td>\n",
       "      <td>35.700000</td>\n",
       "      <td>5.866000e+03</td>\n",
       "      <td>3.815600e+04</td>\n",
       "      <td>17.000000</td>\n",
       "      <td>0.000000</td>\n",
       "      <td>6752.795000</td>\n",
       "      <td>3.000000</td>\n",
       "      <td>83.000000</td>\n",
       "      <td>415.646396</td>\n",
       "    </tr>\n",
       "    <tr>\n",
       "      <th>50%</th>\n",
       "      <td>365.590000</td>\n",
       "      <td>12000.000000</td>\n",
       "      <td>13.330000</td>\n",
       "      <td>0.000000</td>\n",
       "      <td>2.000000</td>\n",
       "      <td>2.000000</td>\n",
       "      <td>6.300000e+04</td>\n",
       "      <td>3.000000</td>\n",
       "      <td>2.000000</td>\n",
       "      <td>0.000000</td>\n",
       "      <td>120.000000</td>\n",
       "      <td>0.000000</td>\n",
       "      <td>0.000000</td>\n",
       "      <td>0.000000</td>\n",
       "      <td>1.000000</td>\n",
       "      <td>10.000000</td>\n",
       "      <td>16.140000</td>\n",
       "      <td>55.200000</td>\n",
       "      <td>1.093900e+04</td>\n",
       "      <td>1.405628e+05</td>\n",
       "      <td>24.000000</td>\n",
       "      <td>0.000000</td>\n",
       "      <td>11917.262193</td>\n",
       "      <td>4.000000</td>\n",
       "      <td>183.000000</td>\n",
       "      <td>550.474866</td>\n",
       "    </tr>\n",
       "    <tr>\n",
       "      <th>75%</th>\n",
       "      <td>547.950000</td>\n",
       "      <td>18400.000000</td>\n",
       "      <td>16.290000</td>\n",
       "      <td>0.000000</td>\n",
       "      <td>2.000000</td>\n",
       "      <td>3.000000</td>\n",
       "      <td>8.900000e+04</td>\n",
       "      <td>7.000000</td>\n",
       "      <td>2.000000</td>\n",
       "      <td>0.000000</td>\n",
       "      <td>120.000000</td>\n",
       "      <td>29.000000</td>\n",
       "      <td>0.000000</td>\n",
       "      <td>0.000000</td>\n",
       "      <td>1.000000</td>\n",
       "      <td>14.000000</td>\n",
       "      <td>21.960000</td>\n",
       "      <td>73.400000</td>\n",
       "      <td>1.914600e+04</td>\n",
       "      <td>1.714325e+05</td>\n",
       "      <td>32.000000</td>\n",
       "      <td>0.000000</td>\n",
       "      <td>19227.281019</td>\n",
       "      <td>5.000000</td>\n",
       "      <td>287.000000</td>\n",
       "      <td>685.369254</td>\n",
       "    </tr>\n",
       "    <tr>\n",
       "      <th>max</th>\n",
       "      <td>1409.990000</td>\n",
       "      <td>35000.000000</td>\n",
       "      <td>28.990000</td>\n",
       "      <td>1.000000</td>\n",
       "      <td>13.000000</td>\n",
       "      <td>3.000000</td>\n",
       "      <td>7.141778e+06</td>\n",
       "      <td>11.000000</td>\n",
       "      <td>4.000000</td>\n",
       "      <td>4.000000</td>\n",
       "      <td>120.000000</td>\n",
       "      <td>81.000000</td>\n",
       "      <td>81.000000</td>\n",
       "      <td>29.000000</td>\n",
       "      <td>3.000000</td>\n",
       "      <td>20.000000</td>\n",
       "      <td>57.140000</td>\n",
       "      <td>153.000000</td>\n",
       "      <td>1.743266e+06</td>\n",
       "      <td>8.000078e+06</td>\n",
       "      <td>51.000000</td>\n",
       "      <td>2.000000</td>\n",
       "      <td>57777.579870</td>\n",
       "      <td>6.000000</td>\n",
       "      <td>382.000000</td>\n",
       "      <td>1409.030401</td>\n",
       "    </tr>\n",
       "  </tbody>\n",
       "</table>\n",
       "</div>"
      ],
      "text/plain": [
       "         installment    loan_amount  interest_rate           term  \\\n",
       "count  237395.000000  237395.000000  237395.000000  237395.000000   \n",
       "mean      419.157920   13606.008025      13.573666       0.217591   \n",
       "std       245.265153    8143.662130       4.367879       0.412609   \n",
       "min        19.870000    1000.000000       5.320000       0.000000   \n",
       "25%       240.920000    7375.000000      10.490000       0.000000   \n",
       "50%       365.590000   12000.000000      13.330000       0.000000   \n",
       "75%       547.950000   18400.000000      16.290000       0.000000   \n",
       "max      1409.990000   35000.000000      28.990000       1.000000   \n",
       "\n",
       "             purpose  home_ownership  annual_income  employment_length  \\\n",
       "count  237395.000000   237395.000000   2.373950e+05      237395.000000   \n",
       "mean        2.792772        1.413349   7.354933e+04           4.036808   \n",
       "std         2.543745        1.437383   5.755961e+04           3.405895   \n",
       "min         0.000000        0.000000   3.000000e+03           0.000000   \n",
       "25%         2.000000        0.000000   4.500000e+04           1.000000   \n",
       "50%         2.000000        2.000000   6.300000e+04           3.000000   \n",
       "75%         2.000000        3.000000   8.900000e+04           7.000000   \n",
       "max        13.000000        3.000000   7.141778e+06          11.000000   \n",
       "\n",
       "       earliest_credit_line  public_records  last_record_months  \\\n",
       "count         237395.000000   237395.000000       237395.000000   \n",
       "mean               1.984541        0.146958          114.518962   \n",
       "std                1.005112        0.427928           17.483744   \n",
       "min                0.000000        0.000000            0.000000   \n",
       "25%                1.000000        0.000000          120.000000   \n",
       "50%                2.000000        0.000000          120.000000   \n",
       "75%                2.000000        0.000000          120.000000   \n",
       "max                4.000000        4.000000          120.000000   \n",
       "\n",
       "       last_delinquency_months  last_derog_months  delinquency_2y  \\\n",
       "count            237395.000000      237395.000000   237395.000000   \n",
       "mean                 16.166335           8.640439        0.256113   \n",
       "std                  23.087015          19.815510        0.755780   \n",
       "min                   0.000000           0.000000        0.000000   \n",
       "25%                   0.000000           0.000000        0.000000   \n",
       "50%                   0.000000           0.000000        0.000000   \n",
       "75%                  29.000000           0.000000        0.000000   \n",
       "max                  81.000000          81.000000       29.000000   \n",
       "\n",
       "        inquiries_6m  open_accounts  debt_to_income  credit_card_usage  \\\n",
       "count  237395.000000  237395.000000   237395.000000      237395.000000   \n",
       "mean        0.796457      10.798425       16.527606          53.891362   \n",
       "std         0.957440       4.372366        7.811221          24.740306   \n",
       "min         0.000000       1.000000        0.000000           0.000000   \n",
       "25%         0.000000       8.000000       10.720000          35.700000   \n",
       "50%         1.000000      10.000000       16.140000          55.200000   \n",
       "75%         1.000000      14.000000       21.960000          73.400000   \n",
       "max         3.000000      20.000000       57.140000         153.000000   \n",
       "\n",
       "       credit_card_balance  total_current_balance    nr_accounts  \\\n",
       "count         2.373950e+05           2.373950e+05  237395.000000   \n",
       "mean          1.528588e+04           1.405628e+05      24.976891   \n",
       "std           1.904590e+04           1.352500e+05      11.160823   \n",
       "min           0.000000e+00           0.000000e+00       3.000000   \n",
       "25%           5.866000e+03           3.815600e+04      17.000000   \n",
       "50%           1.093900e+04           1.405628e+05      24.000000   \n",
       "75%           1.914600e+04           1.714325e+05      32.000000   \n",
       "max           1.743266e+06           8.000078e+06      51.000000   \n",
       "\n",
       "         loan_status   amount_payed           year       district  \\\n",
       "count  237395.000000  237395.000000  237395.000000  237395.000000   \n",
       "mean        0.194983   14038.479086       4.001377     186.814213   \n",
       "std         0.532753    9547.726621       1.409435     114.099624   \n",
       "min         0.000000       0.000000       0.000000       0.000000   \n",
       "25%         0.000000    6752.795000       3.000000      83.000000   \n",
       "50%         0.000000   11917.262193       4.000000     183.000000   \n",
       "75%         0.000000   19227.281019       5.000000     287.000000   \n",
       "max         2.000000   57777.579870       6.000000     382.000000   \n",
       "\n",
       "        credit_score  \n",
       "count  237395.000000  \n",
       "mean      550.466943  \n",
       "std       200.149081  \n",
       "min      -345.011615  \n",
       "25%       415.646396  \n",
       "50%       550.474866  \n",
       "75%       685.369254  \n",
       "max      1409.030401  "
      ]
     },
     "execution_count": 25,
     "metadata": {},
     "output_type": "execute_result"
    }
   ],
   "source": [
    "df.describe()"
   ]
  },
  {
   "cell_type": "code",
   "execution_count": 26,
   "metadata": {},
   "outputs": [
    {
     "data": {
      "text/html": [
       "<div>\n",
       "<style scoped>\n",
       "    .dataframe tbody tr th:only-of-type {\n",
       "        vertical-align: middle;\n",
       "    }\n",
       "\n",
       "    .dataframe tbody tr th {\n",
       "        vertical-align: top;\n",
       "    }\n",
       "\n",
       "    .dataframe thead th {\n",
       "        text-align: right;\n",
       "    }\n",
       "</style>\n",
       "<table border=\"1\" class=\"dataframe\">\n",
       "  <thead>\n",
       "    <tr style=\"text-align: right;\">\n",
       "      <th></th>\n",
       "      <th>installment</th>\n",
       "      <th>loan_amount</th>\n",
       "      <th>interest_rate</th>\n",
       "      <th>term</th>\n",
       "      <th>purpose</th>\n",
       "      <th>home_ownership</th>\n",
       "      <th>annual_income</th>\n",
       "      <th>employment_length</th>\n",
       "      <th>earliest_credit_line</th>\n",
       "      <th>public_records</th>\n",
       "      <th>last_record_months</th>\n",
       "      <th>last_delinquency_months</th>\n",
       "      <th>last_derog_months</th>\n",
       "      <th>delinquency_2y</th>\n",
       "      <th>inquiries_6m</th>\n",
       "      <th>open_accounts</th>\n",
       "      <th>debt_to_income</th>\n",
       "      <th>credit_card_usage</th>\n",
       "      <th>credit_card_balance</th>\n",
       "      <th>total_current_balance</th>\n",
       "      <th>nr_accounts</th>\n",
       "      <th>loan_status</th>\n",
       "      <th>amount_payed</th>\n",
       "      <th>year</th>\n",
       "      <th>district</th>\n",
       "      <th>credit_score</th>\n",
       "    </tr>\n",
       "  </thead>\n",
       "  <tbody>\n",
       "  </tbody>\n",
       "</table>\n",
       "</div>"
      ],
      "text/plain": [
       "Empty DataFrame\n",
       "Columns: [installment, loan_amount, interest_rate, term, purpose, home_ownership, annual_income, employment_length, earliest_credit_line, public_records, last_record_months, last_delinquency_months, last_derog_months, delinquency_2y, inquiries_6m, open_accounts, debt_to_income, credit_card_usage, credit_card_balance, total_current_balance, nr_accounts, loan_status, amount_payed, year, district, credit_score]\n",
       "Index: []"
      ]
     },
     "execution_count": 26,
     "metadata": {},
     "output_type": "execute_result"
    }
   ],
   "source": [
    "# checking if there are any NAN values or Nones\n",
    "df[df.isnull().any(axis=1)]"
   ]
  },
  {
   "cell_type": "code",
   "execution_count": 28,
   "metadata": {},
   "outputs": [],
   "source": [
    "df.to_csv('stage1_loans.csv', index=False)"
   ]
  }
 ],
 "metadata": {
  "kernelspec": {
   "display_name": "Python 3",
   "language": "python",
   "name": "python3"
  },
  "language_info": {
   "codemirror_mode": {
    "name": "ipython",
    "version": 3
   },
   "file_extension": ".py",
   "mimetype": "text/x-python",
   "name": "python",
   "nbconvert_exporter": "python",
   "pygments_lexer": "ipython3",
   "version": "3.6.9"
  }
 },
 "nbformat": 4,
 "nbformat_minor": 4
}
